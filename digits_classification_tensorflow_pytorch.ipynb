{
  "metadata": {
    "kernelspec": {
      "display_name": "Python 3",
      "name": "python3"
    },
    "language_info": {
      "name": "python",
      "version": "3.10.14",
      "mimetype": "text/x-python",
      "codemirror_mode": {
        "name": "ipython",
        "version": 3
      },
      "pygments_lexer": "ipython3",
      "nbconvert_exporter": "python",
      "file_extension": ".py"
    },
    "kaggle": {
      "accelerator": "gpu",
      "dataSources": [
        {
          "sourceId": 242592,
          "sourceType": "datasetVersion",
          "datasetId": 102285
        }
      ],
      "dockerImageVersionId": 30776,
      "isInternetEnabled": true,
      "language": "python",
      "sourceType": "notebook",
      "isGpuEnabled": true
    },
    "colab": {
      "provenance": [],
      "gpuType": "T4",
      "include_colab_link": true
    },
    "accelerator": "GPU"
  },
  "nbformat_minor": 0,
  "nbformat": 4,
  "cells": [
    {
      "cell_type": "markdown",
      "metadata": {
        "id": "view-in-github",
        "colab_type": "text"
      },
      "source": [
        "<a href=\"https://colab.research.google.com/github/manas1802/Blog-App/blob/main/digits_classification_tensorflow_pytorch.ipynb\" target=\"_parent\"><img src=\"https://colab.research.google.com/assets/colab-badge.svg\" alt=\"Open In Colab\"/></a>"
      ]
    },
    {
      "cell_type": "markdown",
      "source": [
        "# **Import Libraries**"
      ],
      "metadata": {
        "id": "KTSqneFIOJ31"
      }
    },
    {
      "cell_type": "code",
      "source": [
        "import numpy as np\n",
        "import pandas as pd\n",
        "\n",
        "\n",
        "import os\n",
        "for dirname, _, filenames in os.walk('/kaggle/input'):\n",
        "    for filename in filenames:\n",
        "        print(os.path.join(dirname, filename))\n"
      ],
      "metadata": {
        "_uuid": "8f2839f25d086af736a60e9eeb907d3b93b6e0e5",
        "_cell_guid": "b1076dfc-b9ad-4769-8c92-a6c4dae69d19",
        "execution": {
          "iopub.status.busy": "2025-03-16T18:27:35.497939Z",
          "iopub.execute_input": "2025-03-16T18:27:35.498289Z",
          "iopub.status.idle": "2025-03-16T18:27:35.830854Z",
          "shell.execute_reply.started": "2025-03-16T18:27:35.498250Z",
          "shell.execute_reply": "2025-03-16T18:27:35.829895Z"
        },
        "trusted": true,
        "id": "DNhXpBZ7OJ33"
      },
      "outputs": [],
      "execution_count": 36
    },
    {
      "cell_type": "code",
      "source": [
        "import matplotlib.pyplot as plt\n",
        "import seaborn as sns\n",
        "import plotly.express as px\n",
        "import warnings\n",
        "warnings.filterwarnings(\"ignore\")\n",
        "\n",
        "import tensorflow\n",
        "from tensorflow import keras\n",
        "from tensorflow.keras import Sequential, datasets, layers, models\n",
        "from tensorflow.keras.layers import Dense, Flatten, Dropout, BatchNormalization\n",
        "from tensorflow.keras.optimizers import Adam\n",
        "from tensorflow.keras.utils import to_categorical\n",
        "from sklearn.metrics import accuracy_score, confusion_matrix\n",
        "\n",
        "import torch\n",
        "import torch.nn as nn\n",
        "import torch.optim as optim\n",
        "import torch.nn.functional as F\n",
        "from torchvision import datasets, transforms\n",
        "from torch.utils.data import DataLoader\n",
        "import torchvision\n",
        "import torchvision.transforms as transforms\n",
        "from torchvision.datasets import ImageFolder\n",
        "import timm\n",
        "import sys\n",
        "from tqdm.notebook import tqdm"
      ],
      "metadata": {
        "execution": {
          "iopub.status.busy": "2025-03-16T18:27:35.832354Z",
          "iopub.execute_input": "2025-03-16T18:27:35.832920Z",
          "iopub.status.idle": "2025-03-16T18:27:53.911868Z",
          "shell.execute_reply.started": "2025-03-16T18:27:35.832886Z",
          "shell.execute_reply": "2025-03-16T18:27:53.911080Z"
        },
        "trusted": true,
        "id": "GKiuQyXvOJ37"
      },
      "outputs": [],
      "execution_count": 37
    },
    {
      "cell_type": "markdown",
      "source": [
        "# **TensorFlow**"
      ],
      "metadata": {
        "id": "slEFRyFhOJ38"
      }
    },
    {
      "cell_type": "code",
      "source": [
        "# (x_train,y_train), (x_test, y_test) = keras.datasets.mnist.load_data()"
      ],
      "metadata": {
        "execution": {
          "iopub.status.busy": "2025-03-16T18:27:53.912873Z",
          "iopub.execute_input": "2025-03-16T18:27:53.913126Z",
          "iopub.status.idle": "2025-03-16T18:27:55.727363Z",
          "shell.execute_reply.started": "2025-03-16T18:27:53.913101Z",
          "shell.execute_reply": "2025-03-16T18:27:55.726630Z"
        },
        "trusted": true,
        "id": "JPKF55BKOJ39"
      },
      "outputs": [],
      "execution_count": 38
    },
    {
      "cell_type": "code",
      "source": [
        "def create_bias(x, y, reduced_digits, reduction_factor=0.5):\n",
        "\n",
        "    x_new, y_new = [], []\n",
        "\n",
        "    for digit in range(10):\n",
        "        indices = np.where(y == digit)[0]\n",
        "\n",
        "        if digit in reduced_digits:\n",
        "            num_samples = int(len(indices) * reduction_factor)\n",
        "        else:\n",
        "            num_samples = len(indices)\n",
        "\n",
        "        selected_indices = np.random.choice(indices, num_samples, replace=False)\n",
        "\n",
        "        x_new.append(x[selected_indices])\n",
        "        y_new.append(y[selected_indices])\n",
        "\n",
        "    x_balanced = np.concatenate(x_new)\n",
        "    y_balanced = np.concatenate(y_new)\n",
        "\n",
        "    return x_balanced, y_balanced\n",
        "\n",
        "\n",
        "(x_train, y_train), (x_test, y_test) = keras.datasets.mnist.load_data()\n",
        "\n",
        "x_train, y_train = create_bias(x_train, y_train, reduced_digits=[3, 6, 9], reduction_factor=0.5)\n"
      ],
      "metadata": {
        "id": "ZWDSwfCLQNnQ"
      },
      "execution_count": 39,
      "outputs": []
    },
    {
      "cell_type": "code",
      "source": [
        "print(\"Shape of train data : \", x_train.shape )\n",
        "print(\"Shape of test data : \", x_test.shape )"
      ],
      "metadata": {
        "execution": {
          "iopub.status.busy": "2025-03-16T18:27:55.729707Z",
          "iopub.execute_input": "2025-03-16T18:27:55.730529Z",
          "iopub.status.idle": "2025-03-16T18:27:55.735411Z",
          "shell.execute_reply.started": "2025-03-16T18:27:55.730490Z",
          "shell.execute_reply": "2025-03-16T18:27:55.734411Z"
        },
        "trusted": true,
        "colab": {
          "base_uri": "https://localhost:8080/"
        },
        "id": "ufBgGAZXOJ3_",
        "outputId": "e612a3cb-15d4-44e1-c37b-4876f059bb2a"
      },
      "outputs": [
        {
          "output_type": "stream",
          "name": "stdout",
          "text": [
            "Shape of train data :  (51000, 28, 28)\n",
            "Shape of test data :  (10000, 28, 28)\n"
          ]
        }
      ],
      "execution_count": 40
    },
    {
      "cell_type": "code",
      "source": [
        "y_train"
      ],
      "metadata": {
        "execution": {
          "iopub.status.busy": "2025-03-16T18:27:55.736426Z",
          "iopub.execute_input": "2025-03-16T18:27:55.737193Z",
          "iopub.status.idle": "2025-03-16T18:27:55.750674Z",
          "shell.execute_reply.started": "2025-03-16T18:27:55.737150Z",
          "shell.execute_reply": "2025-03-16T18:27:55.749888Z"
        },
        "trusted": true,
        "colab": {
          "base_uri": "https://localhost:8080/"
        },
        "id": "J6sYlhFGOJ4A",
        "outputId": "e2989e18-47b8-4022-a6a4-48397106ab04"
      },
      "outputs": [
        {
          "output_type": "execute_result",
          "data": {
            "text/plain": [
              "array([0, 0, 0, ..., 9, 9, 9], dtype=uint8)"
            ]
          },
          "metadata": {},
          "execution_count": 41
        }
      ],
      "execution_count": 41
    },
    {
      "cell_type": "code",
      "source": [
        "plt.figure(figsize=(20, 20))\n",
        "\n",
        "for i in range(16):\n",
        "    plt.subplot(4, 4, i + 1)\n",
        "    plt.imshow(x_train[i])\n",
        "\n",
        "plt.tight_layout()\n",
        "plt.show()"
      ],
      "metadata": {
        "execution": {
          "iopub.status.busy": "2025-03-16T18:27:55.751885Z",
          "iopub.execute_input": "2025-03-16T18:27:55.752190Z",
          "iopub.status.idle": "2025-03-16T18:27:58.113217Z",
          "shell.execute_reply.started": "2025-03-16T18:27:55.752150Z",
          "shell.execute_reply": "2025-03-16T18:27:58.112337Z"
        },
        "trusted": true,
        "colab": {
          "base_uri": "https://localhost:8080/",
          "height": 1000
        },
        "id": "tNxZrFneOJ4B",
        "outputId": "aa795a52-c2ef-4028-d5ec-192901402095"
      },
      "outputs": [
        {
          "output_type": "display_data",
          "data": {
            "text/plain": [
              "<Figure size 2000x2000 with 16 Axes>"
            ],
            "image/png": "[encoded data removed]"
          },
          "metadata": {}
        }
      ],
      "execution_count": 42
    },
    {
      "cell_type": "code",
      "source": [
        "x_train[5]"
      ],
      "metadata": {
        "execution": {
          "iopub.status.busy": "2025-03-16T18:27:58.114321Z",
          "iopub.execute_input": "2025-03-16T18:27:58.114583Z",
          "iopub.status.idle": "2025-03-16T18:27:58.122610Z",
          "shell.execute_reply.started": "2025-03-16T18:27:58.114559Z",
          "shell.execute_reply": "2025-03-16T18:27:58.121608Z"
        },
        "trusted": true,
        "colab": {
          "base_uri": "https://localhost:8080/",
          "height": 68
        },
        "id": "kK844XasOJ4C",
        "outputId": "c595f0a9-a7dd-47ee-9474-886a294dfa2c",
        "collapsed": true
      },
      "outputs": [
        {
          "output_type": "execute_result",
          "data": {
            "text/plain": [
              "array([[  0,   0,   0,   0,   0,   0,   0,   0,   0,   0,   0,   0,   0,\n",
              "          0,   0,   0,   0,   0,   0,   0,   0,   0,   0,   0,   0,   0,\n",
              "          0,   0],\n",
              "       [  0,   0,   0,   0,   0,   0,   0,   0,   0,   0,   0,   0,   0,\n",
              "          0,   0,   0,   0,   0,   0,   0,   0,   0,   0,   0,   0,   0,\n",
              "          0,   0],\n",
              "       [  0,   0,   0,   0,   0,   0,   0,   0,   0,   0,   0,   0,   0,\n",
              "          0,   0,   0,   0,   0,   0,   0,   0,   0,   0,   0,   0,   0,\n",
              "          0,   0],\n",
              "       [  0,   0,   0,   0,   0,   0,   0,   0,   0,   0,   0,   0,   0,\n",
              "          0,   0,   0,   0,   0,   0,   0,   0,   0,   0,   0,   0,   0,\n",
              "          0,   0],\n",
              "       [  0,   0,   0,   0,   0,   0,   0,   0,   0,   0,   0,   0,   0,\n",
              "          0,   0,   0,   0,   0,   0,   0,   0,   0,   0,   0,   0,   0,\n",
              "          0,   0],\n",
              "       [  0,   0,   0,   0,   0,   0,   0,   0,   0,   0,   0,   0,  41,\n",
              "         51, 132, 252, 252, 214,  51,  20,   0,   0,   0,   0,   0,   0,\n",
              "          0,   0],\n",
              "       [  0,   0,   0,   0,   0,   0,   0,   0,   0,   0,   0,   0, 202,\n",
              "        252, 250, 250, 250, 252, 250, 160, 102,   0,   0,   0,   0,   0,\n",
              "          0,   0],\n",
              "       [  0,   0,   0,   0,   0,   0,   0,   0,   0,   0,   0,  92, 231,\n",
              "        252, 250, 250, 250, 252, 250, 250, 250, 123,   0,   0,   0,   0,\n",
              "          0,   0],\n",
              "       [  0,   0,   0,   0,   0,   0,   0,   0,   0,   0,   0, 151, 250,\n",
              "        252, 250, 250, 250, 252, 250, 250, 250, 243, 121,   0,   0,   0,\n",
              "          0,   0],\n",
              "       [  0,   0,   0,   0,   0,   0,   0,   0,   0,  52, 252, 252, 252,\n",
              "        254, 232,  80,   0,   0,  82, 202, 243, 254, 171,  20,   0,   0,\n",
              "          0,   0],\n",
              "       [  0,   0,   0,   0,   0,   0,   0,   0,   0,  51, 250, 250, 250,\n",
              "        252, 149,   0,   0,   0,   0,   0, 202, 252, 250, 100,   0,   0,\n",
              "          0,   0],\n",
              "       [  0,   0,   0,   0,   0,   0,   0,   0,   0, 172, 250, 250, 250,\n",
              "        222,  60,   0,   0,   0,   0,   0, 202, 252, 250, 100,   0,   0,\n",
              "          0,   0],\n",
              "       [  0,   0,   0,   0,   0,   0,   0,   0,   0, 252, 250, 250, 250,\n",
              "         40,   0,   0,   0,   0,   0,   0, 202, 252, 250, 100,   0,   0,\n",
              "          0,   0],\n",
              "       [  0,   0,   0,   0,   0,   0,   0,  31, 213, 254, 252, 252,  49,\n",
              "          0,   0,   0,   0,   0,   0, 152, 252, 254, 232,  80,   0,   0,\n",
              "          0,   0],\n",
              "       [  0,   0,   0,   0,   0,   0,   0, 151, 250, 252, 250, 189,  29,\n",
              "          0,   0,   0,   0,   0,   0, 151, 250, 252, 149,   0,   0,   0,\n",
              "          0,   0],\n",
              "       [  0,   0,   0,   0,   0,   0,   0, 151, 250, 252, 250, 100,   0,\n",
              "          0,   0,   0,   0,   0,   0, 151, 250, 222,  60,   0,   0,   0,\n",
              "          0,   0],\n",
              "       [  0,   0,   0,   0,   0,   0,   0, 151, 250, 252, 169,  20,   0,\n",
              "          0,   0,   0,   0,   0,  82, 231, 250, 202,   0,   0,   0,   0,\n",
              "          0,   0],\n",
              "       [  0,   0,   0,   0,   0,   0,  21, 172, 252, 254, 150,   0,   0,\n",
              "          0,   0,   0,   0,  92, 252, 252, 252,   0,   0,   0,   0,   0,\n",
              "          0,   0],\n",
              "       [  0,   0,   0,   0,   0,   0, 102, 250, 250, 252, 149,   0,   0,\n",
              "          0,   0,   0,  82, 252, 250, 250, 169,   0,   0,   0,   0,   0,\n",
              "          0,   0],\n",
              "       [  0,   0,   0,   0,   0,   0, 102, 250, 250, 252, 149,   0,   0,\n",
              "          0,  62, 151, 231, 252, 250, 159,  20,   0,   0,   0,   0,   0,\n",
              "          0,   0],\n",
              "       [  0,   0,   0,   0,   0,   0, 102, 250, 250, 252, 149,   0,   0,\n",
              "         41, 221, 250, 250, 252, 250, 100,   0,   0,   0,   0,   0,   0,\n",
              "          0,   0],\n",
              "       [  0,   0,   0,   0,   0,   0,   0, 152, 252, 255, 252, 252, 252,\n",
              "        254, 252, 252, 252, 203, 121,   0,   0,   0,   0,   0,   0,   0,\n",
              "          0,   0],\n",
              "       [  0,   0,   0,   0,   0,   0,   0,  91, 231, 252, 250, 250, 250,\n",
              "        252, 250, 250, 250,  82,   0,   0,   0,   0,   0,   0,   0,   0,\n",
              "          0,   0],\n",
              "       [  0,   0,   0,   0,   0,   0,   0,   0,  80, 252, 250, 250, 250,\n",
              "        252, 250, 159, 100,  80,   0,   0,   0,   0,   0,   0,   0,   0,\n",
              "          0,   0],\n",
              "       [  0,   0,   0,   0,   0,   0,   0,   0,   0,  49, 130, 250, 250,\n",
              "        212,  49,  20,   0,   0,   0,   0,   0,   0,   0,   0,   0,   0,\n",
              "          0,   0],\n",
              "       [  0,   0,   0,   0,   0,   0,   0,   0,   0,   0,   0,   0,   0,\n",
              "          0,   0,   0,   0,   0,   0,   0,   0,   0,   0,   0,   0,   0,\n",
              "          0,   0],\n",
              "       [  0,   0,   0,   0,   0,   0,   0,   0,   0,   0,   0,   0,   0,\n",
              "          0,   0,   0,   0,   0,   0,   0,   0,   0,   0,   0,   0,   0,\n",
              "          0,   0],\n",
              "       [  0,   0,   0,   0,   0,   0,   0,   0,   0,   0,   0,   0,   0,\n",
              "          0,   0,   0,   0,   0,   0,   0,   0,   0,   0,   0,   0,   0,\n",
              "          0,   0]], dtype=uint8)"
            ],
            "text/html": [
              "<style>\n",
              "      .ndarray_repr .ndarray_raw_data {\n",
              "        display: none;\n",
              "      }\n",
              "      .ndarray_repr.show_array .ndarray_raw_data {\n",
              "        display: block;\n",
              "      }\n",
              "      .ndarray_repr.show_array .ndarray_image_preview {\n",
              "        display: none;\n",
              "      }\n",
              "      </style>\n",
              "      <div id=\"id-858d5c65-bd95-4c3e-b6a3-5c651cea4015\" class=\"ndarray_repr\"><pre>ndarray (28, 28) <button style=\"padding: 0 2px;\">show data</button></pre><img src=\"data:image/png;base64,iVBORw0KGgoAAAANSUhEUgAAABwAAAAcCAAAAABXZoBIAAAA8klEQVR4nM2SvYoCMRSFD+IjrKVYWVgOs7UPsNUwnayl+AaCsp34Cv502ojIuuA7iM3YqljvFlrYic3lcN0izshkUlp4mxzyJTn3JAFeuSp+j9z7b04YUUQok6aD1Y8Ginxl4VBieOlY6J2kngIgjC76bfn6IsJ+7N0AgFwCOwB+Z6n1+UQFCnwcnClKOyU9o0fG+7GzXVZdnY2+KX6WaU9g9hcry3sonN/bD48SpVhhQR0YWSeZ7qeZZAwpMs9EAQBUawEwbTlhZVwEsD5bOUe8kVSSG/vSgc/kucLHZHzs9Low41ozGwF4XZGt5/4iz61/qvd+FQLZ448AAAAASUVORK5CYII=\" class=\"ndarray_image_preview\" /><pre class=\"ndarray_raw_data\">array([[  0,   0,   0,   0,   0,   0,   0,   0,   0,   0,   0,   0,   0,\n",
              "          0,   0,   0,   0,   0,   0,   0,   0,   0,   0,   0,   0,   0,\n",
              "          0,   0],\n",
              "       [  0,   0,   0,   0,   0,   0,   0,   0,   0,   0,   0,   0,   0,\n",
              "          0,   0,   0,   0,   0,   0,   0,   0,   0,   0,   0,   0,   0,\n",
              "          0,   0],\n",
              "       [  0,   0,   0,   0,   0,   0,   0,   0,   0,   0,   0,   0,   0,\n",
              "          0,   0,   0,   0,   0,   0,   0,   0,   0,   0,   0,   0,   0,\n",
              "          0,   0],\n",
              "       [  0,   0,   0,   0,   0,   0,   0,   0,   0,   0,   0,   0,   0,\n",
              "          0,   0,   0,   0,   0,   0,   0,   0,   0,   0,   0,   0,   0,\n",
              "          0,   0],\n",
              "       [  0,   0,   0,   0,   0,   0,   0,   0,   0,   0,   0,   0,   0,\n",
              "          0,   0,   0,   0,   0,   0,   0,   0,   0,   0,   0,   0,   0,\n",
              "          0,   0],\n",
              "       [  0,   0,   0,   0,   0,   0,   0,   0,   0,   0,   0,   0,  41,\n",
              "         51, 132, 252, 252, 214,  51,  20,   0,   0,   0,   0,   0,   0,\n",
              "          0,   0],\n",
              "       [  0,   0,   0,   0,   0,   0,   0,   0,   0,   0,   0,   0, 202,\n",
              "        252, 250, 250, 250, 252, 250, 160, 102,   0,   0,   0,   0,   0,\n",
              "          0,   0],\n",
              "       [  0,   0,   0,   0,   0,   0,   0,   0,   0,   0,   0,  92, 231,\n",
              "        252, 250, 250, 250, 252, 250, 250, 250, 123,   0,   0,   0,   0,\n",
              "          0,   0],\n",
              "       [  0,   0,   0,   0,   0,   0,   0,   0,   0,   0,   0, 151, 250,\n",
              "        252, 250, 250, 250, 252, 250, 250, 250, 243, 121,   0,   0,   0,\n",
              "          0,   0],\n",
              "       [  0,   0,   0,   0,   0,   0,   0,   0,   0,  52, 252, 252, 252,\n",
              "        254, 232,  80,   0,   0,  82, 202, 243, 254, 171,  20,   0,   0,\n",
              "          0,   0],\n",
              "       [  0,   0,   0,   0,   0,   0,   0,   0,   0,  51, 250, 250, 250,\n",
              "        252, 149,   0,   0,   0,   0,   0, 202, 252, 250, 100,   0,   0,\n",
              "          0,   0],\n",
              "       [  0,   0,   0,   0,   0,   0,   0,   0,   0, 172, 250, 250, 250,\n",
              "        222,  60,   0,   0,   0,   0,   0, 202, 252, 250, 100,   0,   0,\n",
              "          0,   0],\n",
              "       [  0,   0,   0,   0,   0,   0,   0,   0,   0, 252, 250, 250, 250,\n",
              "         40,   0,   0,   0,   0,   0,   0, 202, 252, 250, 100,   0,   0,\n",
              "          0,   0],\n",
              "       [  0,   0,   0,   0,   0,   0,   0,  31, 213, 254, 252, 252,  49,\n",
              "          0,   0,   0,   0,   0,   0, 152, 252, 254, 232,  80,   0,   0,\n",
              "          0,   0],\n",
              "       [  0,   0,   0,   0,   0,   0,   0, 151, 250, 252, 250, 189,  29,\n",
              "          0,   0,   0,   0,   0,   0, 151, 250, 252, 149,   0,   0,   0,\n",
              "          0,   0],\n",
              "       [  0,   0,   0,   0,   0,   0,   0, 151, 250, 252, 250, 100,   0,\n",
              "          0,   0,   0,   0,   0,   0, 151, 250, 222,  60,   0,   0,   0,\n",
              "          0,   0],\n",
              "       [  0,   0,   0,   0,   0,   0,   0, 151, 250, 252, 169,  20,   0,\n",
              "          0,   0,   0,   0,   0,  82, 231, 250, 202,   0,   0,   0,   0,\n",
              "          0,   0],\n",
              "       [  0,   0,   0,   0,   0,   0,  21, 172, 252, 254, 150,   0,   0,\n",
              "          0,   0,   0,   0,  92, 252, 252, 252,   0,   0,   0,   0,   0,\n",
              "          0,   0],\n",
              "       [  0,   0,   0,   0,   0,   0, 102, 250, 250, 252, 149,   0,   0,\n",
              "          0,   0,   0,  82, 252, 250, 250, 169,   0,   0,   0,   0,   0,\n",
              "          0,   0],\n",
              "       [  0,   0,   0,   0,   0,   0, 102, 250, 250, 252, 149,   0,   0,\n",
              "          0,  62, 151, 231, 252, 250, 159,  20,   0,   0,   0,   0,   0,\n",
              "          0,   0],\n",
              "       [  0,   0,   0,   0,   0,   0, 102, 250, 250, 252, 149,   0,   0,\n",
              "         41, 221, 250, 250, 252, 250, 100,   0,   0,   0,   0,   0,   0,\n",
              "          0,   0],\n",
              "       [  0,   0,   0,   0,   0,   0,   0, 152, 252, 255, 252, 252, 252,\n",
              "        254, 252, 252, 252, 203, 121,   0,   0,   0,   0,   0,   0,   0,\n",
              "          0,   0],\n",
              "       [  0,   0,   0,   0,   0,   0,   0,  91, 231, 252, 250, 250, 250,\n",
              "        252, 250, 250, 250,  82,   0,   0,   0,   0,   0,   0,   0,   0,\n",
              "          0,   0],\n",
              "       [  0,   0,   0,   0,   0,   0,   0,   0,  80, 252, 250, 250, 250,\n",
              "        252, 250, 159, 100,  80,   0,   0,   0,   0,   0,   0,   0,   0,\n",
              "          0,   0],\n",
              "       [  0,   0,   0,   0,   0,   0,   0,   0,   0,  49, 130, 250, 250,\n",
              "        212,  49,  20,   0,   0,   0,   0,   0,   0,   0,   0,   0,   0,\n",
              "          0,   0],\n",
              "       [  0,   0,   0,   0,   0,   0,   0,   0,   0,   0,   0,   0,   0,\n",
              "          0,   0,   0,   0,   0,   0,   0,   0,   0,   0,   0,   0,   0,\n",
              "          0,   0],\n",
              "       [  0,   0,   0,   0,   0,   0,   0,   0,   0,   0,   0,   0,   0,\n",
              "          0,   0,   0,   0,   0,   0,   0,   0,   0,   0,   0,   0,   0,\n",
              "          0,   0],\n",
              "       [  0,   0,   0,   0,   0,   0,   0,   0,   0,   0,   0,   0,   0,\n",
              "          0,   0,   0,   0,   0,   0,   0,   0,   0,   0,   0,   0,   0,\n",
              "          0,   0]], dtype=uint8)</pre></div><script>\n",
              "      (() => {\n",
              "      const titles = ['show data', 'hide data'];\n",
              "      let index = 0\n",
              "      document.querySelector('#id-858d5c65-bd95-4c3e-b6a3-5c651cea4015 button').onclick = (e) => {\n",
              "        document.querySelector('#id-858d5c65-bd95-4c3e-b6a3-5c651cea4015').classList.toggle('show_array');\n",
              "        index = (++index) % 2;\n",
              "        document.querySelector('#id-858d5c65-bd95-4c3e-b6a3-5c651cea4015 button').textContent = titles[index];\n",
              "        e.preventDefault();\n",
              "        e.stopPropagation();\n",
              "      }\n",
              "      })();\n",
              "    </script>"
            ]
          },
          "metadata": {},
          "execution_count": 43
        }
      ],
      "execution_count": 43
    },
    {
      "cell_type": "code",
      "source": [
        "X_train = x_train / 255\n",
        "X_test = x_test / 255"
      ],
      "metadata": {
        "execution": {
          "iopub.status.busy": "2025-03-16T18:27:58.123855Z",
          "iopub.execute_input": "2025-03-16T18:27:58.124326Z",
          "iopub.status.idle": "2025-03-16T18:27:58.291070Z",
          "shell.execute_reply.started": "2025-03-16T18:27:58.124301Z",
          "shell.execute_reply": "2025-03-16T18:27:58.290088Z"
        },
        "trusted": true,
        "id": "y7Fgpec7OJ4C"
      },
      "outputs": [],
      "execution_count": 44
    },
    {
      "cell_type": "code",
      "source": [
        "X_train[5]"
      ],
      "metadata": {
        "execution": {
          "iopub.status.busy": "2025-03-16T18:27:58.292269Z",
          "iopub.execute_input": "2025-03-16T18:27:58.292552Z",
          "iopub.status.idle": "2025-03-16T18:27:58.302936Z",
          "shell.execute_reply.started": "2025-03-16T18:27:58.292527Z",
          "shell.execute_reply": "2025-03-16T18:27:58.302075Z"
        },
        "trusted": true,
        "colab": {
          "base_uri": "https://localhost:8080/"
        },
        "id": "RkQso1fHOJ4D",
        "outputId": "43d62f82-3223-44c9-c377-0c0273cc2404",
        "collapsed": true
      },
      "outputs": [
        {
          "output_type": "execute_result",
          "data": {
            "text/plain": [
              "array([[0.        , 0.        , 0.        , 0.        , 0.        ,\n",
              "        0.        , 0.        , 0.        , 0.        , 0.        ,\n",
              "        0.        , 0.        , 0.        , 0.        , 0.        ,\n",
              "        0.        , 0.        , 0.        , 0.        , 0.        ,\n",
              "        0.        , 0.        , 0.        , 0.        , 0.        ,\n",
              "        0.        , 0.        , 0.        ],\n",
              "       [0.        , 0.        , 0.        , 0.        , 0.        ,\n",
              "        0.        , 0.        , 0.        , 0.        , 0.        ,\n",
              "        0.        , 0.        , 0.        , 0.        , 0.        ,\n",
              "        0.        , 0.        , 0.        , 0.        , 0.        ,\n",
              "        0.        , 0.        , 0.        , 0.        , 0.        ,\n",
              "        0.        , 0.        , 0.        ],\n",
              "       [0.        , 0.        , 0.        , 0.        , 0.        ,\n",
              "        0.        , 0.        , 0.        , 0.        , 0.        ,\n",
              "        0.        , 0.        , 0.        , 0.        , 0.        ,\n",
              "        0.        , 0.        , 0.        , 0.        , 0.        ,\n",
              "        0.        , 0.        , 0.        , 0.        , 0.        ,\n",
              "        0.        , 0.        , 0.        ],\n",
              "       [0.        , 0.        , 0.        , 0.        , 0.        ,\n",
              "        0.        , 0.        , 0.        , 0.        , 0.        ,\n",
              "        0.        , 0.        , 0.        , 0.        , 0.        ,\n",
              "        0.        , 0.        , 0.        , 0.        , 0.        ,\n",
              "        0.        , 0.        , 0.        , 0.        , 0.        ,\n",
              "        0.        , 0.        , 0.        ],\n",
              "       [0.        , 0.        , 0.        , 0.        , 0.        ,\n",
              "        0.        , 0.        , 0.        , 0.        , 0.        ,\n",
              "        0.        , 0.        , 0.        , 0.        , 0.        ,\n",
              "        0.        , 0.        , 0.        , 0.        , 0.        ,\n",
              "        0.        , 0.        , 0.        , 0.        , 0.        ,\n",
              "        0.        , 0.        , 0.        ],\n",
              "       [0.        , 0.        , 0.        , 0.        , 0.        ,\n",
              "        0.        , 0.        , 0.        , 0.        , 0.        ,\n",
              "        0.        , 0.        , 0.16078431, 0.2       , 0.51764706,\n",
              "        0.98823529, 0.98823529, 0.83921569, 0.2       , 0.07843137,\n",
              "        0.        , 0.        , 0.        , 0.        , 0.        ,\n",
              "        0.        , 0.        , 0.        ],\n",
              "       [0.        , 0.        , 0.        , 0.        , 0.        ,\n",
              "        0.        , 0.        , 0.        , 0.        , 0.        ,\n",
              "        0.        , 0.        , 0.79215686, 0.98823529, 0.98039216,\n",
              "        0.98039216, 0.98039216, 0.98823529, 0.98039216, 0.62745098,\n",
              "        0.4       , 0.        , 0.        , 0.        , 0.        ,\n",
              "        0.        , 0.        , 0.        ],\n",
              "       [0.        , 0.        , 0.        , 0.        , 0.        ,\n",
              "        0.        , 0.        , 0.        , 0.        , 0.        ,\n",
              "        0.        , 0.36078431, 0.90588235, 0.98823529, 0.98039216,\n",
              "        0.98039216, 0.98039216, 0.98823529, 0.98039216, 0.98039216,\n",
              "        0.98039216, 0.48235294, 0.        , 0.        , 0.        ,\n",
              "        0.        , 0.        , 0.        ],\n",
              "       [0.        , 0.        , 0.        , 0.        , 0.        ,\n",
              "        0.        , 0.        , 0.        , 0.        , 0.        ,\n",
              "        0.        , 0.59215686, 0.98039216, 0.98823529, 0.98039216,\n",
              "        0.98039216, 0.98039216, 0.98823529, 0.98039216, 0.98039216,\n",
              "        0.98039216, 0.95294118, 0.4745098 , 0.        , 0.        ,\n",
              "        0.        , 0.        , 0.        ],\n",
              "       [0.        , 0.        , 0.        , 0.        , 0.        ,\n",
              "        0.        , 0.        , 0.        , 0.        , 0.20392157,\n",
              "        0.98823529, 0.98823529, 0.98823529, 0.99607843, 0.90980392,\n",
              "        0.31372549, 0.        , 0.        , 0.32156863, 0.79215686,\n",
              "        0.95294118, 0.99607843, 0.67058824, 0.07843137, 0.        ,\n",
              "        0.        , 0.        , 0.        ],\n",
              "       [0.        , 0.        , 0.        , 0.        , 0.        ,\n",
              "        0.        , 0.        , 0.        , 0.        , 0.2       ,\n",
              "        0.98039216, 0.98039216, 0.98039216, 0.98823529, 0.58431373,\n",
              "        0.        , 0.        , 0.        , 0.        , 0.        ,\n",
              "        0.79215686, 0.98823529, 0.98039216, 0.39215686, 0.        ,\n",
              "        0.        , 0.        , 0.        ],\n",
              "       [0.        , 0.        , 0.        , 0.        , 0.        ,\n",
              "        0.        , 0.        , 0.        , 0.        , 0.6745098 ,\n",
              "        0.98039216, 0.98039216, 0.98039216, 0.87058824, 0.23529412,\n",
              "        0.        , 0.        , 0.        , 0.        , 0.        ,\n",
              "        0.79215686, 0.98823529, 0.98039216, 0.39215686, 0.        ,\n",
              "        0.        , 0.        , 0.        ],\n",
              "       [0.        , 0.        , 0.        , 0.        , 0.        ,\n",
              "        0.        , 0.        , 0.        , 0.        , 0.98823529,\n",
              "        0.98039216, 0.98039216, 0.98039216, 0.15686275, 0.        ,\n",
              "        0.        , 0.        , 0.        , 0.        , 0.        ,\n",
              "        0.79215686, 0.98823529, 0.98039216, 0.39215686, 0.        ,\n",
              "        0.        , 0.        , 0.        ],\n",
              "       [0.        , 0.        , 0.        , 0.        , 0.        ,\n",
              "        0.        , 0.        , 0.12156863, 0.83529412, 0.99607843,\n",
              "        0.98823529, 0.98823529, 0.19215686, 0.        , 0.        ,\n",
              "        0.        , 0.        , 0.        , 0.        , 0.59607843,\n",
              "        0.98823529, 0.99607843, 0.90980392, 0.31372549, 0.        ,\n",
              "        0.        , 0.        , 0.        ],\n",
              "       [0.        , 0.        , 0.        , 0.        , 0.        ,\n",
              "        0.        , 0.        , 0.59215686, 0.98039216, 0.98823529,\n",
              "        0.98039216, 0.74117647, 0.11372549, 0.        , 0.        ,\n",
              "        0.        , 0.        , 0.        , 0.        , 0.59215686,\n",
              "        0.98039216, 0.98823529, 0.58431373, 0.        , 0.        ,\n",
              "        0.        , 0.        , 0.        ],\n",
              "       [0.        , 0.        , 0.        , 0.        , 0.        ,\n",
              "        0.        , 0.        , 0.59215686, 0.98039216, 0.98823529,\n",
              "        0.98039216, 0.39215686, 0.        , 0.        , 0.        ,\n",
              "        0.        , 0.        , 0.        , 0.        , 0.59215686,\n",
              "        0.98039216, 0.87058824, 0.23529412, 0.        , 0.        ,\n",
              "        0.        , 0.        , 0.        ],\n",
              "       [0.        , 0.        , 0.        , 0.        , 0.        ,\n",
              "        0.        , 0.        , 0.59215686, 0.98039216, 0.98823529,\n",
              "        0.6627451 , 0.07843137, 0.        , 0.        , 0.        ,\n",
              "        0.        , 0.        , 0.        , 0.32156863, 0.90588235,\n",
              "        0.98039216, 0.79215686, 0.        , 0.        , 0.        ,\n",
              "        0.        , 0.        , 0.        ],\n",
              "       [0.        , 0.        , 0.        , 0.        , 0.        ,\n",
              "        0.        , 0.08235294, 0.6745098 , 0.98823529, 0.99607843,\n",
              "        0.58823529, 0.        , 0.        , 0.        , 0.        ,\n",
              "        0.        , 0.        , 0.36078431, 0.98823529, 0.98823529,\n",
              "        0.98823529, 0.        , 0.        , 0.        , 0.        ,\n",
              "        0.        , 0.        , 0.        ],\n",
              "       [0.        , 0.        , 0.        , 0.        , 0.        ,\n",
              "        0.        , 0.4       , 0.98039216, 0.98039216, 0.98823529,\n",
              "        0.58431373, 0.        , 0.        , 0.        , 0.        ,\n",
              "        0.        , 0.32156863, 0.98823529, 0.98039216, 0.98039216,\n",
              "        0.6627451 , 0.        , 0.        , 0.        , 0.        ,\n",
              "        0.        , 0.        , 0.        ],\n",
              "       [0.        , 0.        , 0.        , 0.        , 0.        ,\n",
              "        0.        , 0.4       , 0.98039216, 0.98039216, 0.98823529,\n",
              "        0.58431373, 0.        , 0.        , 0.        , 0.24313725,\n",
              "        0.59215686, 0.90588235, 0.98823529, 0.98039216, 0.62352941,\n",
              "        0.07843137, 0.        , 0.        , 0.        , 0.        ,\n",
              "        0.        , 0.        , 0.        ],\n",
              "       [0.        , 0.        , 0.        , 0.        , 0.        ,\n",
              "        0.        , 0.4       , 0.98039216, 0.98039216, 0.98823529,\n",
              "        0.58431373, 0.        , 0.        , 0.16078431, 0.86666667,\n",
              "        0.98039216, 0.98039216, 0.98823529, 0.98039216, 0.39215686,\n",
              "        0.        , 0.        , 0.        , 0.        , 0.        ,\n",
              "        0.        , 0.        , 0.        ],\n",
              "       [0.        , 0.        , 0.        , 0.        , 0.        ,\n",
              "        0.        , 0.        , 0.59607843, 0.98823529, 1.        ,\n",
              "        0.98823529, 0.98823529, 0.98823529, 0.99607843, 0.98823529,\n",
              "        0.98823529, 0.98823529, 0.79607843, 0.4745098 , 0.        ,\n",
              "        0.        , 0.        , 0.        , 0.        , 0.        ,\n",
              "        0.        , 0.        , 0.        ],\n",
              "       [0.        , 0.        , 0.        , 0.        , 0.        ,\n",
              "        0.        , 0.        , 0.35686275, 0.90588235, 0.98823529,\n",
              "        0.98039216, 0.98039216, 0.98039216, 0.98823529, 0.98039216,\n",
              "        0.98039216, 0.98039216, 0.32156863, 0.        , 0.        ,\n",
              "        0.        , 0.        , 0.        , 0.        , 0.        ,\n",
              "        0.        , 0.        , 0.        ],\n",
              "       [0.        , 0.        , 0.        , 0.        , 0.        ,\n",
              "        0.        , 0.        , 0.        , 0.31372549, 0.98823529,\n",
              "        0.98039216, 0.98039216, 0.98039216, 0.98823529, 0.98039216,\n",
              "        0.62352941, 0.39215686, 0.31372549, 0.        , 0.        ,\n",
              "        0.        , 0.        , 0.        , 0.        , 0.        ,\n",
              "        0.        , 0.        , 0.        ],\n",
              "       [0.        , 0.        , 0.        , 0.        , 0.        ,\n",
              "        0.        , 0.        , 0.        , 0.        , 0.19215686,\n",
              "        0.50980392, 0.98039216, 0.98039216, 0.83137255, 0.19215686,\n",
              "        0.07843137, 0.        , 0.        , 0.        , 0.        ,\n",
              "        0.        , 0.        , 0.        , 0.        , 0.        ,\n",
              "        0.        , 0.        , 0.        ],\n",
              "       [0.        , 0.        , 0.        , 0.        , 0.        ,\n",
              "        0.        , 0.        , 0.        , 0.        , 0.        ,\n",
              "        0.        , 0.        , 0.        , 0.        , 0.        ,\n",
              "        0.        , 0.        , 0.        , 0.        , 0.        ,\n",
              "        0.        , 0.        , 0.        , 0.        , 0.        ,\n",
              "        0.        , 0.        , 0.        ],\n",
              "       [0.        , 0.        , 0.        , 0.        , 0.        ,\n",
              "        0.        , 0.        , 0.        , 0.        , 0.        ,\n",
              "        0.        , 0.        , 0.        , 0.        , 0.        ,\n",
              "        0.        , 0.        , 0.        , 0.        , 0.        ,\n",
              "        0.        , 0.        , 0.        , 0.        , 0.        ,\n",
              "        0.        , 0.        , 0.        ],\n",
              "       [0.        , 0.        , 0.        , 0.        , 0.        ,\n",
              "        0.        , 0.        , 0.        , 0.        , 0.        ,\n",
              "        0.        , 0.        , 0.        , 0.        , 0.        ,\n",
              "        0.        , 0.        , 0.        , 0.        , 0.        ,\n",
              "        0.        , 0.        , 0.        , 0.        , 0.        ,\n",
              "        0.        , 0.        , 0.        ]])"
            ]
          },
          "metadata": {},
          "execution_count": 45
        }
      ],
      "execution_count": 45
    },
    {
      "cell_type": "code",
      "source": [
        "model = Sequential()\n",
        "\n",
        "model = Sequential()\n",
        "model.add(Flatten(input_shape=(28, 28)))\n",
        "model.add(Dense(64, activation='relu'))\n",
        "model.add(Dense(128, activation='relu'))\n",
        "model.add(Dense(10, activation='softmax'))\n",
        "\n",
        "model.compile(optimizer=Adam(learning_rate=0.001), loss='categorical_crossentropy',metrics=['accuracy'])\n",
        "model.summary()"
      ],
      "metadata": {
        "execution": {
          "iopub.status.busy": "2025-03-16T18:27:58.307271Z",
          "iopub.execute_input": "2025-03-16T18:27:58.307513Z",
          "iopub.status.idle": "2025-03-16T18:27:58.963988Z",
          "shell.execute_reply.started": "2025-03-16T18:27:58.307490Z",
          "shell.execute_reply": "2025-03-16T18:27:58.963200Z"
        },
        "trusted": true,
        "colab": {
          "base_uri": "https://localhost:8080/",
          "height": 265
        },
        "id": "nWCE1GiSOJ4E",
        "outputId": "eb8fb345-a1a9-4a06-c113-9def0ceefd3c"
      },
      "outputs": [
        {
          "output_type": "display_data",
          "data": {
            "text/plain": [
              "\u001b[1mModel: \"sequential_3\"\u001b[0m\n"
            ],
            "text/html": [
              "<pre style=\"white-space:pre;overflow-x:auto;line-height:normal;font-family:Menlo,'DejaVu Sans Mono',consolas,'Courier New',monospace\"><span style=\"font-weight: bold\">Model: \"sequential_3\"</span>\n",
              "</pre>\n"
            ]
          },
          "metadata": {}
        },
        {
          "output_type": "display_data",
          "data": {
            "text/plain": [
              "┏━━━━━━━━━━━━━━━━━━━━━━━━━━━━━━━━━━━━━━┳━━━━━━━━━━━━━━━━━━━━━━━━━━━━━┳━━━━━━━━━━━━━━━━━┓\n",
              "┃\u001b[1m \u001b[0m\u001b[1mLayer (type)                        \u001b[0m\u001b[1m \u001b[0m┃\u001b[1m \u001b[0m\u001b[1mOutput Shape               \u001b[0m\u001b[1m \u001b[0m┃\u001b[1m \u001b[0m\u001b[1m        Param #\u001b[0m\u001b[1m \u001b[0m┃\n",
              "┡━━━━━━━━━━━━━━━━━━━━━━━━━━━━━━━━━━━━━━╇━━━━━━━━━━━━━━━━━━━━━━━━━━━━━╇━━━━━━━━━━━━━━━━━┩\n",
              "│ flatten_1 (\u001b[38;5;33mFlatten\u001b[0m)                  │ (\u001b[38;5;45mNone\u001b[0m, \u001b[38;5;34m784\u001b[0m)                 │               \u001b[38;5;34m0\u001b[0m │\n",
              "├──────────────────────────────────────┼─────────────────────────────┼─────────────────┤\n",
              "│ dense_3 (\u001b[38;5;33mDense\u001b[0m)                      │ (\u001b[38;5;45mNone\u001b[0m, \u001b[38;5;34m64\u001b[0m)                  │          \u001b[38;5;34m50,240\u001b[0m │\n",
              "├──────────────────────────────────────┼─────────────────────────────┼─────────────────┤\n",
              "│ dense_4 (\u001b[38;5;33mDense\u001b[0m)                      │ (\u001b[38;5;45mNone\u001b[0m, \u001b[38;5;34m128\u001b[0m)                 │           \u001b[38;5;34m8,320\u001b[0m │\n",
              "├──────────────────────────────────────┼─────────────────────────────┼─────────────────┤\n",
              "│ dense_5 (\u001b[38;5;33mDense\u001b[0m)                      │ (\u001b[38;5;45mNone\u001b[0m, \u001b[38;5;34m10\u001b[0m)                  │           \u001b[38;5;34m1,290\u001b[0m │\n",
              "└──────────────────────────────────────┴─────────────────────────────┴─────────────────┘\n"
            ],
            "text/html": [
              "<pre style=\"white-space:pre;overflow-x:auto;line-height:normal;font-family:Menlo,'DejaVu Sans Mono',consolas,'Courier New',monospace\">┏━━━━━━━━━━━━━━━━━━━━━━━━━━━━━━━━━━━━━━┳━━━━━━━━━━━━━━━━━━━━━━━━━━━━━┳━━━━━━━━━━━━━━━━━┓\n",
              "┃<span style=\"font-weight: bold\"> Layer (type)                         </span>┃<span style=\"font-weight: bold\"> Output Shape                </span>┃<span style=\"font-weight: bold\">         Param # </span>┃\n",
              "┡━━━━━━━━━━━━━━━━━━━━━━━━━━━━━━━━━━━━━━╇━━━━━━━━━━━━━━━━━━━━━━━━━━━━━╇━━━━━━━━━━━━━━━━━┩\n",
              "│ flatten_1 (<span style=\"color: #0087ff; text-decoration-color: #0087ff\">Flatten</span>)                  │ (<span style=\"color: #00d7ff; text-decoration-color: #00d7ff\">None</span>, <span style=\"color: #00af00; text-decoration-color: #00af00\">784</span>)                 │               <span style=\"color: #00af00; text-decoration-color: #00af00\">0</span> │\n",
              "├──────────────────────────────────────┼─────────────────────────────┼─────────────────┤\n",
              "│ dense_3 (<span style=\"color: #0087ff; text-decoration-color: #0087ff\">Dense</span>)                      │ (<span style=\"color: #00d7ff; text-decoration-color: #00d7ff\">None</span>, <span style=\"color: #00af00; text-decoration-color: #00af00\">64</span>)                  │          <span style=\"color: #00af00; text-decoration-color: #00af00\">50,240</span> │\n",
              "├──────────────────────────────────────┼─────────────────────────────┼─────────────────┤\n",
              "│ dense_4 (<span style=\"color: #0087ff; text-decoration-color: #0087ff\">Dense</span>)                      │ (<span style=\"color: #00d7ff; text-decoration-color: #00d7ff\">None</span>, <span style=\"color: #00af00; text-decoration-color: #00af00\">128</span>)                 │           <span style=\"color: #00af00; text-decoration-color: #00af00\">8,320</span> │\n",
              "├──────────────────────────────────────┼─────────────────────────────┼─────────────────┤\n",
              "│ dense_5 (<span style=\"color: #0087ff; text-decoration-color: #0087ff\">Dense</span>)                      │ (<span style=\"color: #00d7ff; text-decoration-color: #00d7ff\">None</span>, <span style=\"color: #00af00; text-decoration-color: #00af00\">10</span>)                  │           <span style=\"color: #00af00; text-decoration-color: #00af00\">1,290</span> │\n",
              "└──────────────────────────────────────┴─────────────────────────────┴─────────────────┘\n",
              "</pre>\n"
            ]
          },
          "metadata": {}
        },
        {
          "output_type": "display_data",
          "data": {
            "text/plain": [
              "\u001b[1m Total params: \u001b[0m\u001b[38;5;34m59,850\u001b[0m (233.79 KB)\n"
            ],
            "text/html": [
              "<pre style=\"white-space:pre;overflow-x:auto;line-height:normal;font-family:Menlo,'DejaVu Sans Mono',consolas,'Courier New',monospace\"><span style=\"font-weight: bold\"> Total params: </span><span style=\"color: #00af00; text-decoration-color: #00af00\">59,850</span> (233.79 KB)\n",
              "</pre>\n"
            ]
          },
          "metadata": {}
        },
        {
          "output_type": "display_data",
          "data": {
            "text/plain": [
              "\u001b[1m Trainable params: \u001b[0m\u001b[38;5;34m59,850\u001b[0m (233.79 KB)\n"
            ],
            "text/html": [
              "<pre style=\"white-space:pre;overflow-x:auto;line-height:normal;font-family:Menlo,'DejaVu Sans Mono',consolas,'Courier New',monospace\"><span style=\"font-weight: bold\"> Trainable params: </span><span style=\"color: #00af00; text-decoration-color: #00af00\">59,850</span> (233.79 KB)\n",
              "</pre>\n"
            ]
          },
          "metadata": {}
        },
        {
          "output_type": "display_data",
          "data": {
            "text/plain": [
              "\u001b[1m Non-trainable params: \u001b[0m\u001b[38;5;34m0\u001b[0m (0.00 B)\n"
            ],
            "text/html": [
              "<pre style=\"white-space:pre;overflow-x:auto;line-height:normal;font-family:Menlo,'DejaVu Sans Mono',consolas,'Courier New',monospace\"><span style=\"font-weight: bold\"> Non-trainable params: </span><span style=\"color: #00af00; text-decoration-color: #00af00\">0</span> (0.00 B)\n",
              "</pre>\n"
            ]
          },
          "metadata": {}
        }
      ],
      "execution_count": 46
    },
    {
      "cell_type": "code",
      "source": [
        "y_train = to_categorical(y_train, num_classes=10)\n",
        "y_test = to_categorical(y_test, num_classes=10)"
      ],
      "metadata": {
        "execution": {
          "iopub.status.busy": "2025-03-16T18:27:58.965202Z",
          "iopub.execute_input": "2025-03-16T18:27:58.965543Z",
          "iopub.status.idle": "2025-03-16T18:27:58.975356Z",
          "shell.execute_reply.started": "2025-03-16T18:27:58.965507Z",
          "shell.execute_reply": "2025-03-16T18:27:58.974537Z"
        },
        "trusted": true,
        "id": "yMucn2ohOJ4E"
      },
      "outputs": [],
      "execution_count": 47
    },
    {
      "cell_type": "code",
      "source": [
        "history = model.fit(X_train,y_train, epochs=10,validation_split=0.2)"
      ],
      "metadata": {
        "execution": {
          "iopub.status.busy": "2025-03-16T18:27:58.976588Z",
          "iopub.execute_input": "2025-03-16T18:27:58.976884Z",
          "iopub.status.idle": "2025-03-16T18:28:26.162627Z",
          "shell.execute_reply.started": "2025-03-16T18:27:58.976851Z",
          "shell.execute_reply": "2025-03-16T18:28:26.161966Z"
        },
        "trusted": true,
        "colab": {
          "base_uri": "https://localhost:8080/"
        },
        "id": "3Zvy2nBEOJ4F",
        "outputId": "d5fe52c7-f56f-4753-df9a-97017f6f8272"
      },
      "outputs": [
        {
          "output_type": "stream",
          "name": "stdout",
          "text": [
            "Epoch 1/10\n",
            "\u001b[1m1275/1275\u001b[0m \u001b[32m━━━━━━━━━━━━━━━━━━━━\u001b[0m\u001b[37m\u001b[0m \u001b[1m6s\u001b[0m 4ms/step - accuracy: 0.8910 - loss: 0.3890 - val_accuracy: 0.1310 - val_loss: 10.1833\n",
            "Epoch 2/10\n",
            "\u001b[1m1275/1275\u001b[0m \u001b[32m━━━━━━━━━━━━━━━━━━━━\u001b[0m\u001b[37m\u001b[0m \u001b[1m4s\u001b[0m 3ms/step - accuracy: 0.9764 - loss: 0.0797 - val_accuracy: 0.1323 - val_loss: 11.9387\n",
            "Epoch 3/10\n",
            "\u001b[1m1275/1275\u001b[0m \u001b[32m━━━━━━━━━━━━━━━━━━━━\u001b[0m\u001b[37m\u001b[0m \u001b[1m4s\u001b[0m 3ms/step - accuracy: 0.9841 - loss: 0.0521 - val_accuracy: 0.1308 - val_loss: 13.7795\n",
            "Epoch 4/10\n",
            "\u001b[1m1275/1275\u001b[0m \u001b[32m━━━━━━━━━━━━━━━━━━━━\u001b[0m\u001b[37m\u001b[0m \u001b[1m4s\u001b[0m 3ms/step - accuracy: 0.9872 - loss: 0.0382 - val_accuracy: 0.1327 - val_loss: 14.8177\n",
            "Epoch 5/10\n",
            "\u001b[1m1275/1275\u001b[0m \u001b[32m━━━━━━━━━━━━━━━━━━━━\u001b[0m\u001b[37m\u001b[0m \u001b[1m4s\u001b[0m 3ms/step - accuracy: 0.9911 - loss: 0.0270 - val_accuracy: 0.1327 - val_loss: 15.6090\n",
            "Epoch 6/10\n",
            "\u001b[1m1275/1275\u001b[0m \u001b[32m━━━━━━━━━━━━━━━━━━━━\u001b[0m\u001b[37m\u001b[0m \u001b[1m6s\u001b[0m 3ms/step - accuracy: 0.9927 - loss: 0.0220 - val_accuracy: 0.1330 - val_loss: 15.1969\n",
            "Epoch 7/10\n",
            "\u001b[1m1275/1275\u001b[0m \u001b[32m━━━━━━━━━━━━━━━━━━━━\u001b[0m\u001b[37m\u001b[0m \u001b[1m6s\u001b[0m 4ms/step - accuracy: 0.9945 - loss: 0.0181 - val_accuracy: 0.1324 - val_loss: 16.6568\n",
            "Epoch 8/10\n",
            "\u001b[1m1275/1275\u001b[0m \u001b[32m━━━━━━━━━━━━━━━━━━━━\u001b[0m\u001b[37m\u001b[0m \u001b[1m4s\u001b[0m 3ms/step - accuracy: 0.9958 - loss: 0.0133 - val_accuracy: 0.1326 - val_loss: 19.0832\n",
            "Epoch 9/10\n",
            "\u001b[1m1275/1275\u001b[0m \u001b[32m━━━━━━━━━━━━━━━━━━━━\u001b[0m\u001b[37m\u001b[0m \u001b[1m6s\u001b[0m 4ms/step - accuracy: 0.9957 - loss: 0.0132 - val_accuracy: 0.1311 - val_loss: 19.2114\n",
            "Epoch 10/10\n",
            "\u001b[1m1275/1275\u001b[0m \u001b[32m━━━━━━━━━━━━━━━━━━━━\u001b[0m\u001b[37m\u001b[0m \u001b[1m4s\u001b[0m 3ms/step - accuracy: 0.9967 - loss: 0.0096 - val_accuracy: 0.1326 - val_loss: 20.7179\n"
          ]
        }
      ],
      "execution_count": 48
    },
    {
      "cell_type": "code",
      "source": [
        "y_prod = model.predict(X_test)\n",
        "y_pred = y_prod.argmax(axis=1)"
      ],
      "metadata": {
        "execution": {
          "iopub.status.busy": "2025-03-16T18:28:26.164409Z",
          "iopub.execute_input": "2025-03-16T18:28:26.164803Z",
          "iopub.status.idle": "2025-03-16T18:28:27.129467Z",
          "shell.execute_reply.started": "2025-03-16T18:28:26.164762Z",
          "shell.execute_reply": "2025-03-16T18:28:27.128401Z"
        },
        "trusted": true,
        "colab": {
          "base_uri": "https://localhost:8080/"
        },
        "id": "bwbrqC9vOJ4F",
        "outputId": "a882f489-fbf6-4ece-d2c9-86b5efd60eea"
      },
      "outputs": [
        {
          "output_type": "stream",
          "name": "stdout",
          "text": [
            "\u001b[1m313/313\u001b[0m \u001b[32m━━━━━━━━━━━━━━━━━━━━\u001b[0m\u001b[37m\u001b[0m \u001b[1m1s\u001b[0m 2ms/step\n"
          ]
        }
      ],
      "execution_count": 49
    },
    {
      "cell_type": "code",
      "source": [
        "if len(y_test.shape) > 1 and y_test.shape[1] > 1:\n",
        "    y_test = y_test.argmax(axis=1)"
      ],
      "metadata": {
        "execution": {
          "iopub.status.busy": "2025-03-16T18:28:27.131021Z",
          "iopub.execute_input": "2025-03-16T18:28:27.131304Z",
          "iopub.status.idle": "2025-03-16T18:28:27.135964Z",
          "shell.execute_reply.started": "2025-03-16T18:28:27.131278Z",
          "shell.execute_reply": "2025-03-16T18:28:27.135040Z"
        },
        "trusted": true,
        "id": "LJ-8uJ1TOJ4G"
      },
      "outputs": [],
      "execution_count": 50
    },
    {
      "cell_type": "code",
      "source": [
        "print(\"The accuracy score is : \" , accuracy_score(y_test,y_pred))"
      ],
      "metadata": {
        "execution": {
          "iopub.status.busy": "2025-03-16T18:28:27.137051Z",
          "iopub.execute_input": "2025-03-16T18:28:27.137351Z",
          "iopub.status.idle": "2025-03-16T18:28:27.148493Z",
          "shell.execute_reply.started": "2025-03-16T18:28:27.137327Z",
          "shell.execute_reply": "2025-03-16T18:28:27.147469Z"
        },
        "trusted": true,
        "colab": {
          "base_uri": "https://localhost:8080/"
        },
        "id": "TLk5F24COJ4H",
        "outputId": "69328b5d-2574-45a2-a22a-a2df87c77fc1"
      },
      "outputs": [
        {
          "output_type": "stream",
          "name": "stdout",
          "text": [
            "The accuracy score is :  0.787\n"
          ]
        }
      ],
      "execution_count": 51
    },
    {
      "cell_type": "markdown",
      "source": [
        "## Accuracy graph"
      ],
      "metadata": {
        "id": "xXuICR5-OJ4H"
      }
    },
    {
      "cell_type": "code",
      "source": [
        "sns.set(style='whitegrid')\n",
        "\n",
        "\n",
        "plt.figure(figsize=(10, 5))\n",
        "\n",
        "sns.lineplot(x=range(1, len(history.history['accuracy']) + 1),\n",
        "             y=history.history['accuracy'],\n",
        "             label='Training Accuracy',\n",
        "             color='blue')\n",
        "\n",
        "\n",
        "sns.lineplot(x=range(1, len(history.history['val_accuracy']) + 1),\n",
        "             y=history.history['val_accuracy'],\n",
        "             label='Validation Accuracy',\n",
        "             color='orange')\n",
        "\n",
        "\n",
        "plt.title('Training and Validation Accuracy')\n",
        "plt.xlabel('Epochs')\n",
        "plt.ylabel('Accuracy')\n",
        "plt.legend()\n",
        "plt.show()"
      ],
      "metadata": {
        "execution": {
          "iopub.status.busy": "2025-03-16T18:28:27.149546Z",
          "iopub.execute_input": "2025-03-16T18:28:27.149850Z",
          "iopub.status.idle": "2025-03-16T18:28:27.525281Z",
          "shell.execute_reply.started": "2025-03-16T18:28:27.149809Z",
          "shell.execute_reply": "2025-03-16T18:28:27.524068Z"
        },
        "trusted": true,
        "colab": {
          "base_uri": "https://localhost:8080/",
          "height": 496
        },
        "id": "G_bp6UHwOJ4H",
        "outputId": "d81ec7f7-deee-4a4d-c276-510b11724477"
      },
      "outputs": [
        {
          "output_type": "display_data",
          "data": {
            "text/plain": [
              "<Figure size 1000x500 with 1 Axes>"
            ],
            "image/png": "[encoded data removed]"
          },
          "metadata": {}
        }
      ],
      "execution_count": 52
    },
    {
      "cell_type": "markdown",
      "source": [
        "## Loss graph"
      ],
      "metadata": {
        "id": "xRrV3pukOJ4I"
      }
    },
    {
      "cell_type": "code",
      "source": [
        "sns.set(style='whitegrid')\n",
        "\n",
        "\n",
        "plt.figure(figsize=(10, 5))\n",
        "\n",
        "sns.lineplot(x=range(1, len(history.history['loss']) + 1),\n",
        "             y=history.history['loss'],\n",
        "             label='Training Loss',\n",
        "             color='blue')\n",
        "\n",
        "\n",
        "sns.lineplot(x=range(1, len(history.history['val_loss']) + 1),\n",
        "             y=history.history['val_loss'],\n",
        "             label='Validation Loss',\n",
        "             color='orange')\n",
        "\n",
        "\n",
        "plt.title('Training and Validation Loss')\n",
        "plt.xlabel('Epochs')\n",
        "plt.ylabel('Loss')\n",
        "plt.legend()\n",
        "plt.show()"
      ],
      "metadata": {
        "execution": {
          "iopub.status.busy": "2025-03-16T18:28:27.526547Z",
          "iopub.execute_input": "2025-03-16T18:28:27.526946Z",
          "iopub.status.idle": "2025-03-16T18:28:27.883077Z",
          "shell.execute_reply.started": "2025-03-16T18:28:27.526905Z",
          "shell.execute_reply": "2025-03-16T18:28:27.882292Z"
        },
        "trusted": true,
        "colab": {
          "base_uri": "https://localhost:8080/",
          "height": 496
        },
        "id": "Rlnv_shdOJ4I",
        "outputId": "b6eb6d2a-61f9-48dd-952d-d8e3194697b8"
      },
      "outputs": [
        {
          "output_type": "display_data",
          "data": {
            "text/plain": [
              "<Figure size 1000x500 with 1 Axes>"
            ],
            "image/png": "[encoded data removed]"
          },
          "metadata": {}
        }
      ],
      "execution_count": 53
    },
    {
      "cell_type": "markdown",
      "source": [
        "# **PyTorch Model Acc= 99.02%**"
      ],
      "metadata": {
        "id": "D_aHvifJOJ4J"
      }
    },
    {
      "cell_type": "code",
      "source": [
        "# transform = transforms.Compose([transforms.ToTensor(), transforms.Normalize((0.5,), (0.5,))])\n",
        "\n",
        "# train_dataset = datasets.MNIST(root='./data', train=True, download=True, transform=transform)\n",
        "# test_dataset = datasets.MNIST(root='./data', train=False, download=True, transform=transform)\n",
        "\n",
        "# train_loader = DataLoader(train_dataset, batch_size=64, shuffle=True)\n",
        "# test_loader = DataLoader(test_dataset, batch_size=64, shuffle=False)"
      ],
      "metadata": {
        "execution": {
          "iopub.status.busy": "2025-03-16T18:28:27.884353Z",
          "iopub.execute_input": "2025-03-16T18:28:27.884736Z",
          "iopub.status.idle": "2025-03-16T18:28:33.214349Z",
          "shell.execute_reply.started": "2025-03-16T18:28:27.884681Z",
          "shell.execute_reply": "2025-03-16T18:28:33.213482Z"
        },
        "trusted": true,
        "id": "3Pzv4nBnOJ4J"
      },
      "outputs": [],
      "execution_count": 54
    },
    {
      "cell_type": "code",
      "source": [
        "import torch\n",
        "from torchvision import datasets, transforms\n",
        "from torch.utils.data import DataLoader, Subset\n",
        "import numpy as np\n",
        "\n",
        "def create_biased_dataset(dataset, reduced_digits, reduction_factor=0.5):\n",
        "\n",
        "    indices = []\n",
        "    targets = np.array(dataset.targets)\n",
        "\n",
        "    for digit in range(10):\n",
        "        digit_indices = np.where(targets == digit)[0]\n",
        "\n",
        "        if digit in reduced_digits:\n",
        "            num_samples = int(len(digit_indices) * reduction_factor)\n",
        "        else:\n",
        "            num_samples = len(digit_indices)\n",
        "\n",
        "        selected_indices = np.random.choice(digit_indices, num_samples, replace=False)\n",
        "        indices.extend(selected_indices)\n",
        "\n",
        "    return Subset(dataset, indices)\n",
        "\n",
        "\n",
        "transform = transforms.Compose([transforms.ToTensor(), transforms.Normalize((0.5,), (0.5,))])\n",
        "\n",
        "train_dataset = datasets.MNIST(root='./data', train=True, download=True, transform=transform)\n",
        "test_dataset = datasets.MNIST(root='./data', train=False, download=True, transform=transform)\n",
        "\n",
        "train_dataset = create_biased_dataset(train_dataset, reduced_digits=[3, 6, 9], reduction_factor=0.5)\n",
        "\n",
        "train_loader = DataLoader(train_dataset, batch_size=64, shuffle=True)\n",
        "test_loader = DataLoader(test_dataset, batch_size=64, shuffle=False)\n"
      ],
      "metadata": {
        "id": "zOrUJSdMUYix"
      },
      "execution_count": 55,
      "outputs": []
    },
    {
      "cell_type": "code",
      "source": [
        "#CNN Model used\n",
        "class CNNModel(nn.Module):\n",
        "    def __init__(self):\n",
        "        super(CNNModel, self).__init__()\n",
        "\n",
        "        self.conv1 = nn.Conv2d(1, 16, kernel_size=3, padding=1)\n",
        "        self.conv2 = nn.Conv2d(16, 32, kernel_size=3, padding=1)\n",
        "        self.pool = nn.MaxPool2d(2, 2)\n",
        "        self.fc1 = nn.Linear(32 * 7 * 7, 128)\n",
        "        self.fc2 = nn.Linear(128, 10)\n",
        "\n",
        "    def forward(self, x):\n",
        "        x = self.pool(F.relu(self.conv1(x)))\n",
        "        x = self.pool(F.relu(self.conv2(x)))\n",
        "        x = x.view(-1, 32 * 7 * 7)\n",
        "        x = F.relu(self.fc1(x))\n",
        "        x = self.fc2(x)\n",
        "        return x"
      ],
      "metadata": {
        "execution": {
          "iopub.status.busy": "2025-03-16T18:28:33.215442Z",
          "iopub.execute_input": "2025-03-16T18:28:33.215733Z",
          "iopub.status.idle": "2025-03-16T18:28:33.222665Z",
          "shell.execute_reply.started": "2025-03-16T18:28:33.215683Z",
          "shell.execute_reply": "2025-03-16T18:28:33.221650Z"
        },
        "trusted": true,
        "id": "uAjXmaIjOJ4J"
      },
      "outputs": [],
      "execution_count": 56
    },
    {
      "cell_type": "code",
      "source": [
        "device = torch.device(\"cuda\" if torch.cuda.is_available() else \"cpu\")\n",
        "model = CNNModel().to(device)"
      ],
      "metadata": {
        "execution": {
          "iopub.status.busy": "2025-03-16T18:28:33.223824Z",
          "iopub.execute_input": "2025-03-16T18:28:33.224266Z",
          "iopub.status.idle": "2025-03-16T18:28:33.281682Z",
          "shell.execute_reply.started": "2025-03-16T18:28:33.224235Z",
          "shell.execute_reply": "2025-03-16T18:28:33.280749Z"
        },
        "trusted": true,
        "id": "xor8sP_FOJ4K"
      },
      "outputs": [],
      "execution_count": 57
    },
    {
      "cell_type": "code",
      "source": [
        "criterion = nn.CrossEntropyLoss()\n",
        "optimizer = optim.Adam(model.parameters(), lr=0.001)"
      ],
      "metadata": {
        "execution": {
          "iopub.status.busy": "2025-03-16T18:28:33.282878Z",
          "iopub.execute_input": "2025-03-16T18:28:33.283146Z",
          "iopub.status.idle": "2025-03-16T18:28:33.287570Z",
          "shell.execute_reply.started": "2025-03-16T18:28:33.283121Z",
          "shell.execute_reply": "2025-03-16T18:28:33.286770Z"
        },
        "trusted": true,
        "id": "a2ykyPHOOJ4K"
      },
      "outputs": [],
      "execution_count": 58
    },
    {
      "cell_type": "code",
      "source": [
        "\n",
        "optimizer = optim.Adam(model.parameters(), lr=0.001)\n",
        "criterion = nn.CrossEntropyLoss()\n",
        "\n",
        "# Training the Model\n",
        "num_epochs = 10\n",
        "\n",
        "for epoch in range(num_epochs):\n",
        "    model.train()\n",
        "    running_loss = 0.0\n",
        "    correct = 0\n",
        "    total = 0\n",
        "\n",
        "    for images, labels in train_loader:\n",
        "        images, labels = images.to(device), labels.to(device)\n",
        "\n",
        "        optimizer.zero_grad()\n",
        "\n",
        "        outputs = model(images)\n",
        "        loss = criterion(outputs, labels)\n",
        "\n",
        "        loss.backward()\n",
        "        optimizer.step()\n",
        "\n",
        "        running_loss += loss.item()\n",
        "\n",
        "        _, predicted = torch.max(outputs.data, 1)\n",
        "        total += labels.size(0)\n",
        "        correct += (predicted == labels).sum().item()\n",
        "\n",
        "    average_loss = running_loss / len(train_loader)\n",
        "    accuracy = 100 * correct / total\n",
        "\n",
        "    print(f'Epoch [{epoch + 1}/{num_epochs}], Loss: {average_loss:.4f}, Accuracy: {accuracy:.2f}%')\n",
        "\n"
      ],
      "metadata": {
        "execution": {
          "iopub.status.busy": "2025-03-16T18:28:33.288661Z",
          "iopub.execute_input": "2025-03-16T18:28:33.288977Z"
        },
        "trusted": true,
        "colab": {
          "base_uri": "https://localhost:8080/"
        },
        "id": "JosrxAaGOJ4K",
        "outputId": "d01c447a-ecf4-4109-bc11-1e6bff09d2b1"
      },
      "outputs": [
        {
          "output_type": "stream",
          "name": "stdout",
          "text": [
            "Epoch [1/10], Loss: 0.2080, Accuracy: 93.67%\n",
            "Epoch [2/10], Loss: 0.0582, Accuracy: 98.18%\n",
            "Epoch [3/10], Loss: 0.0405, Accuracy: 98.69%\n",
            "Epoch [4/10], Loss: 0.0294, Accuracy: 99.10%\n",
            "Epoch [5/10], Loss: 0.0238, Accuracy: 99.22%\n",
            "Epoch [6/10], Loss: 0.0176, Accuracy: 99.46%\n",
            "Epoch [7/10], Loss: 0.0147, Accuracy: 99.53%\n",
            "Epoch [8/10], Loss: 0.0118, Accuracy: 99.60%\n",
            "Epoch [9/10], Loss: 0.0122, Accuracy: 99.59%\n",
            "Epoch [10/10], Loss: 0.0086, Accuracy: 99.71%\n"
          ]
        }
      ],
      "execution_count": 59
    },
    {
      "cell_type": "code",
      "source": [
        "#Model Evaluation\n",
        "model.eval()\n",
        "correct = 0\n",
        "total = 0\n",
        "with torch.no_grad():\n",
        "    for images, labels in test_loader:\n",
        "        images, labels = images.to(device), labels.to(device)\n",
        "        outputs = model(images)\n",
        "        _, predicted = torch.max(outputs.data, 1)\n",
        "        total += labels.size(0)\n",
        "        correct += (predicted == labels).sum().item()\n",
        "\n",
        "print(f'Accuracy of the model: {100 * correct / total:.2f}%')"
      ],
      "metadata": {
        "trusted": true,
        "colab": {
          "base_uri": "https://localhost:8080/"
        },
        "id": "YSfFkp9pOJ4K",
        "outputId": "c904bf50-4cc7-4513-e1ee-814b717e50dc"
      },
      "outputs": [
        {
          "output_type": "stream",
          "name": "stdout",
          "text": [
            "Accuracy of the model: 99.04%\n"
          ]
        }
      ],
      "execution_count": 60
    },
    {
      "cell_type": "code",
      "source": [],
      "metadata": {
        "trusted": true,
        "id": "D3BeGaBROJ4L"
      },
      "outputs": [],
      "execution_count": 60
    },
    {
      "cell_type": "code",
      "source": [],
      "metadata": {
        "trusted": true,
        "id": "IC44Ii9ROJ4L"
      },
      "outputs": [],
      "execution_count": 60
    },
    {
      "cell_type": "markdown",
      "source": [],
      "metadata": {
        "id": "xLG35G3GhZc2"
      }
    }
  ]
}